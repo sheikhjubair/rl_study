{
 "cells": [
  {
   "cell_type": "code",
   "execution_count": null,
   "metadata": {},
   "outputs": [],
   "source": [
    "import gym\n",
    "import matplotlib.pyplot as plt\n",
    "from IPython import display\n",
    "import numpy as np\n",
    "from typing import Callable\n",
    "from IPython import display\n",
    "import seaborn as sns\n",
    "import time"
   ]
  },
  {
   "cell_type": "code",
   "execution_count": null,
   "metadata": {},
   "outputs": [],
   "source": [
    "def test_agent(env: gym.Env, policy: Callable, episodes: int = 10) -> None:\n",
    "    \n",
    "    for i in range(episodes):\n",
    "        plt.figure()\n",
    "        state = env.reset()\n",
    "        state = state[0]\n",
    "        done = False\n",
    "        img = plt.imshow(env.render())\n",
    "        while not done:\n",
    "            p = policy(state)\n",
    "            if isinstance(p, np.ndarray):\n",
    "                action = np.random.choice(4, p=p)\n",
    "            else:\n",
    "                action = p\n",
    "            next_state, _, done, _, _ = env.step(action)\n",
    "            \n",
    "            img.set_data(env.render())\n",
    "            plt.axis('off')\n",
    "            display.display(plt.gcf())\n",
    "            display.clear_output(wait=True)\n",
    "            state = next_state\n",
    "            time.sleep(1)"
   ]
  },
  {
   "cell_type": "code",
   "execution_count": null,
   "metadata": {},
   "outputs": [],
   "source": [
    "def plot_values(state_values, img):\n",
    "    f, axes = plt.subplots(2, 1, figsize=(9,9))\n",
    "    \n",
    "    sns.heatmap(state_values, \n",
    "                annot=True, \n",
    "                fmt=\".2f\", \n",
    "                cmap='coolwarm', \n",
    "                annot_kws={'weight': 'bold', 'size': 8}, \n",
    "                linewidths=1, \n",
    "                ax=axes[0])\n",
    "    axes[1].imshow(img)\n",
    "    axes[0].axis('off')\n",
    "    axes[1].axis('off')\n",
    "    f.subplots_adjust(hspace=0.3)\n",
    "    plt.tight_layout()"
   ]
  },
  {
   "cell_type": "code",
   "execution_count": null,
   "metadata": {},
   "outputs": [],
   "source": [
    "def plot_policy(policy_probs, img):\n",
    "    actions = {0:'U', 1:'R', 2:'D', 3:'L'}\n",
    "    \n",
    "    actions_from_prob = policy_probs.argmax(axis=-1)\n",
    "    action_map = np.array(actions_from_prob.sha)"
   ]
  }
 ],
 "metadata": {
  "kernelspec": {
   "display_name": "Python 3",
   "language": "python",
   "name": "python3"
  },
  "language_info": {
   "name": "python",
   "version": "3.8.9"
  },
  "orig_nbformat": 4,
  "vscode": {
   "interpreter": {
    "hash": "31f2aee4e71d21fbe5cf8b01ff0e069b9275f58929596ceb00d14d90e3e16cd6"
   }
  }
 },
 "nbformat": 4,
 "nbformat_minor": 2
}
